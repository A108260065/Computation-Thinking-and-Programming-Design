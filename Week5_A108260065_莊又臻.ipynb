{
  "nbformat": 4,
  "nbformat_minor": 0,
  "metadata": {
    "colab": {
      "name": "Week5-A108260065-莊又臻.ipynb",
      "provenance": [],
      "include_colab_link": true
    },
    "kernelspec": {
      "name": "python3",
      "display_name": "Python 3"
    }
  },
  "cells": [
    {
      "cell_type": "markdown",
      "metadata": {
        "id": "view-in-github",
        "colab_type": "text"
      },
      "source": [
        "<a href=\"https://colab.research.google.com/github/Username0527/Computation-Thinking-and-Programming-Design/blob/master/Week5_A108260065_%E8%8E%8A%E5%8F%88%E8%87%BB.ipynb\" target=\"_parent\"><img src=\"https://colab.research.google.com/assets/colab-badge.svg\" alt=\"Open In Colab\"/></a>"
      ]
    },
    {
      "cell_type": "code",
      "metadata": {
        "id": "ak69iAt9ESjD",
        "colab_type": "code",
        "colab": {
          "base_uri": "https://localhost:8080/",
          "height": 131
        },
        "outputId": "e784b6c7-c70b-447b-b0dc-8edb99f167f6"
      },
      "source": [
        "print.(a)"
      ],
      "execution_count": 18,
      "outputs": [
        {
          "output_type": "error",
          "ename": "SyntaxError",
          "evalue": "ignored",
          "traceback": [
            "\u001b[0;36m  File \u001b[0;32m\"<ipython-input-18-3125f78cabc4>\"\u001b[0;36m, line \u001b[0;32m1\u001b[0m\n\u001b[0;31m    print.(a)\u001b[0m\n\u001b[0m          ^\u001b[0m\n\u001b[0;31mSyntaxError\u001b[0m\u001b[0;31m:\u001b[0m invalid syntax\n"
          ]
        }
      ]
    },
    {
      "cell_type": "code",
      "metadata": {
        "id": "rgMkc3FKOE0g",
        "colab_type": "code",
        "colab": {
          "base_uri": "https://localhost:8080/",
          "height": 34
        },
        "outputId": "de7615d8-e906-4dc8-dcd3-254f4cb00f95"
      },
      "source": [
        "a=1\n",
        "a"
      ],
      "execution_count": 17,
      "outputs": [
        {
          "output_type": "execute_result",
          "data": {
            "text/plain": [
              "1"
            ]
          },
          "metadata": {
            "tags": []
          },
          "execution_count": 17
        }
      ]
    },
    {
      "cell_type": "code",
      "metadata": {
        "id": "eMe5kDDdPJlN",
        "colab_type": "code",
        "colab": {
          "base_uri": "https://localhost:8080/",
          "height": 34
        },
        "outputId": "b4bccf10-6181-4c25-df17-fe5d1594e803"
      },
      "source": [
        "a=\"Python\"\n",
        "a\n"
      ],
      "execution_count": 15,
      "outputs": [
        {
          "output_type": "execute_result",
          "data": {
            "text/plain": [
              "'Python'"
            ]
          },
          "metadata": {
            "tags": []
          },
          "execution_count": 15
        }
      ]
    },
    {
      "cell_type": "code",
      "metadata": {
        "id": "Vdy-N4EIP7Bb",
        "colab_type": "code",
        "colab": {}
      },
      "source": [
        "a=123\n",
        "b=123.456\n",
        "c=\"Python\"\n",
        "d=False\n"
      ],
      "execution_count": 0,
      "outputs": []
    },
    {
      "cell_type": "code",
      "metadata": {
        "id": "wO7_Qy98QGia",
        "colab_type": "code",
        "colab": {
          "base_uri": "https://localhost:8080/",
          "height": 51
        },
        "outputId": "5389afff-6201-4c0f-e38a-bdd41e533746"
      },
      "source": [
        "a=1\n",
        "print(a, id(a))\n",
        "b=\"Python\"\n",
        "print(b, id(b))\n"
      ],
      "execution_count": 11,
      "outputs": [
        {
          "output_type": "stream",
          "text": [
            "1 10968800\n",
            "Python 140088200498232\n"
          ],
          "name": "stdout"
        }
      ]
    },
    {
      "cell_type": "code",
      "metadata": {
        "id": "4f1OqOJ-QI86",
        "colab_type": "code",
        "colab": {
          "base_uri": "https://localhost:8080/",
          "height": 34
        },
        "outputId": "4029aa18-b817-406a-8559-8dab6ca940c8"
      },
      "source": [
        "x=1\n",
        "y=2\n",
        "print(id(x), id(y))\n"
      ],
      "execution_count": 12,
      "outputs": [
        {
          "output_type": "stream",
          "text": [
            "10968800 10968832\n"
          ],
          "name": "stdout"
        }
      ]
    },
    {
      "cell_type": "code",
      "metadata": {
        "id": "eVEAZjzVQLfw",
        "colab_type": "code",
        "colab": {
          "base_uri": "https://localhost:8080/",
          "height": 34
        },
        "outputId": "c0b15239-dc3e-4be3-c7ef-c8fc005ccfb6"
      },
      "source": [
        "z=1\n",
        "print(id(x), id(z))\n"
      ],
      "execution_count": 13,
      "outputs": [
        {
          "output_type": "stream",
          "text": [
            "10968800 10968800\n"
          ],
          "name": "stdout"
        }
      ]
    },
    {
      "cell_type": "code",
      "metadata": {
        "id": "BQYK2bh3QOLe",
        "colab_type": "code",
        "colab": {
          "base_uri": "https://localhost:8080/",
          "height": 182
        },
        "outputId": "03c903c1-0477-4796-bb74-2d93b8247421"
      },
      "source": [
        "x=18\n",
        "sys.getsizeof(x)\n"
      ],
      "execution_count": 14,
      "outputs": [
        {
          "output_type": "error",
          "ename": "NameError",
          "evalue": "ignored",
          "traceback": [
            "\u001b[0;31m---------------------------------------------------------------------------\u001b[0m",
            "\u001b[0;31mNameError\u001b[0m                                 Traceback (most recent call last)",
            "\u001b[0;32m<ipython-input-14-04c227b3e5bf>\u001b[0m in \u001b[0;36m<module>\u001b[0;34m()\u001b[0m\n\u001b[1;32m      1\u001b[0m \u001b[0mx\u001b[0m\u001b[0;34m=\u001b[0m\u001b[0;36m18\u001b[0m\u001b[0;34m\u001b[0m\u001b[0;34m\u001b[0m\u001b[0m\n\u001b[0;32m----> 2\u001b[0;31m \u001b[0msys\u001b[0m\u001b[0;34m.\u001b[0m\u001b[0mgetsizeof\u001b[0m\u001b[0;34m(\u001b[0m\u001b[0mx\u001b[0m\u001b[0;34m)\u001b[0m\u001b[0;34m\u001b[0m\u001b[0;34m\u001b[0m\u001b[0m\n\u001b[0m",
            "\u001b[0;31mNameError\u001b[0m: name 'sys' is not defined"
          ]
        }
      ]
    },
    {
      "cell_type": "code",
      "metadata": {
        "id": "8hBiFBGDQzyQ",
        "colab_type": "code",
        "colab": {
          "base_uri": "https://localhost:8080/",
          "height": 204
        },
        "outputId": "c1015144-7ca7-4a1d-8b0a-f1318592a68d"
      },
      "source": [
        "print(False)\n",
        "print(True)\n",
        "print(False+3)\n",
        "print(True+3)\n",
        "print(False==0)\n",
        "print(True==1)\n",
        "print(False, type(False))\n",
        "print(True+1, type(True+1))\n",
        "print(bool(1))\n",
        "print(bool(0))\n",
        "print(bool(()))"
      ],
      "execution_count": 20,
      "outputs": [
        {
          "output_type": "stream",
          "text": [
            "False\n",
            "True\n",
            "3\n",
            "4\n",
            "True\n",
            "True\n",
            "False <class 'bool'>\n",
            "2 <class 'int'>\n",
            "True\n",
            "False\n",
            "False\n"
          ],
          "name": "stdout"
        }
      ]
    },
    {
      "cell_type": "code",
      "metadata": {
        "id": "cewBLulBROzW",
        "colab_type": "code",
        "colab": {
          "base_uri": "https://localhost:8080/",
          "height": 102
        },
        "outputId": "da9fa489-0f78-4460-f3a8-129c03f47186"
      },
      "source": [
        "a = 100\n",
        "b = 100.001\n",
        "print(type(100))\n",
        "print(type(100.001))\n",
        "print(int(100))\n",
        "print(float(100.001))\n",
        "print(0.1+0.1+0.1)\n"
      ],
      "execution_count": 22,
      "outputs": [
        {
          "output_type": "stream",
          "text": [
            "<class 'int'>\n",
            "<class 'float'>\n",
            "100\n",
            "100.001\n",
            "0.30000000000000004\n"
          ],
          "name": "stdout"
        }
      ]
    },
    {
      "cell_type": "code",
      "metadata": {
        "id": "3YhWdSzJRcrR",
        "colab_type": "code",
        "colab": {
          "base_uri": "https://localhost:8080/",
          "height": 153
        },
        "outputId": "c5769184-e00a-4dd4-cd38-e2527366be1e"
      },
      "source": [
        "s1 = '春眠不覺曉，處處聞啼⿃。'\n",
        "print(s1)\n",
        "s2 = \"夜來風雨聲，花落知多少。\"\n",
        "print(s2)\n",
        "s3 = '作者\"孟浩然\" 詩名\"春曉\"'\n",
        "print(s3)\n",
        "s4 = \"作者'孟浩然' 詩名'春曉'\"\n",
        "print(s4)\n",
        "s5 = ''' 春眠不覺曉，處處聞啼⿃。\n",
        " 夜來風雨聲，花落知多少。\n",
        " 作者\"孟浩然\" 詩名\"春曉\"\n",
        "'''\n",
        "print(s5)\n"
      ],
      "execution_count": 23,
      "outputs": [
        {
          "output_type": "stream",
          "text": [
            "春眠不覺曉，處處聞啼⿃。\n",
            "夜來風雨聲，花落知多少。\n",
            "作者\"孟浩然\" 詩名\"春曉\"\n",
            "作者'孟浩然' 詩名'春曉'\n",
            " 春眠不覺曉，處處聞啼⿃。\n",
            " 夜來風雨聲，花落知多少。\n",
            " 作者\"孟浩然\" 詩名\"春曉\"\n",
            "\n"
          ],
          "name": "stdout"
        }
      ]
    },
    {
      "cell_type": "code",
      "metadata": {
        "id": "kbIL5n_sSf1m",
        "colab_type": "code",
        "colab": {
          "base_uri": "https://localhost:8080/",
          "height": 68
        },
        "outputId": "242bcba2-7f6c-4f9c-e2c4-6f2c191dadab"
      },
      "source": [
        "a = 123\n",
        "b = 123.456\n",
        "print(a)\n",
        "print(\"b=\", b)\n",
        "print(a, b, end = '.')"
      ],
      "execution_count": 24,
      "outputs": [
        {
          "output_type": "stream",
          "text": [
            "123\n",
            "b= 123.456\n",
            "123 123.456."
          ],
          "name": "stdout"
        }
      ]
    },
    {
      "cell_type": "code",
      "metadata": {
        "id": "y4BH6-ngSkuM",
        "colab_type": "code",
        "colab": {
          "base_uri": "https://localhost:8080/",
          "height": 85
        },
        "outputId": "6f74771e-dc4a-4a9c-ccc5-3ed7e08e42cb"
      },
      "source": [
        "print(\"Bigflower Francis\")\n",
        "print(\"Bigflower \\n Francis\")\n",
        "print(\"Bigflower \\t Francis\")"
      ],
      "execution_count": 25,
      "outputs": [
        {
          "output_type": "stream",
          "text": [
            "Bigflower Francis\n",
            "Bigflower \n",
            " Francis\n",
            "Bigflower \t Francis\n"
          ],
          "name": "stdout"
        }
      ]
    },
    {
      "cell_type": "code",
      "metadata": {
        "id": "ArRX33v_UCNQ",
        "colab_type": "code",
        "colab": {
          "base_uri": "https://localhost:8080/",
          "height": 51
        },
        "outputId": "eb979097-8aaa-4cc9-c640-47d067415d09"
      },
      "source": [
        "s = input()\n",
        "s"
      ],
      "execution_count": 29,
      "outputs": [
        {
          "output_type": "stream",
          "text": [
            "hi\n"
          ],
          "name": "stdout"
        },
        {
          "output_type": "execute_result",
          "data": {
            "text/plain": [
              "'hi'"
            ]
          },
          "metadata": {
            "tags": []
          },
          "execution_count": 29
        }
      ]
    },
    {
      "cell_type": "code",
      "metadata": {
        "id": "TXCFKwIJVtPE",
        "colab_type": "code",
        "colab": {
          "base_uri": "https://localhost:8080/",
          "height": 51
        },
        "outputId": "b5a31d50-7268-489e-bf26-bc9f782b64f1"
      },
      "source": [
        "s = input(\"Enter Your Name:\")\n",
        "s\n"
      ],
      "execution_count": 30,
      "outputs": [
        {
          "output_type": "stream",
          "text": [
            "Enter Your Name:Evan\n"
          ],
          "name": "stdout"
        },
        {
          "output_type": "execute_result",
          "data": {
            "text/plain": [
              "'Evan'"
            ]
          },
          "metadata": {
            "tags": []
          },
          "execution_count": 30
        }
      ]
    },
    {
      "cell_type": "code",
      "metadata": {
        "id": "UgiV8BEsV0R6",
        "colab_type": "code",
        "colab": {
          "base_uri": "https://localhost:8080/",
          "height": 51
        },
        "outputId": "1e74df6d-e46d-4e2d-cf58-e9f19004bde0"
      },
      "source": [
        "s = input (\"Enter Your Name:\")\n",
        "print(\"Hi,\", s)\n"
      ],
      "execution_count": 31,
      "outputs": [
        {
          "output_type": "stream",
          "text": [
            "Enter Your Name:Evan\n",
            "Hi, Evan\n"
          ],
          "name": "stdout"
        }
      ]
    },
    {
      "cell_type": "code",
      "metadata": {
        "id": "j3lZHE88V_sJ",
        "colab_type": "code",
        "colab": {
          "base_uri": "https://localhost:8080/",
          "height": 199
        },
        "outputId": "1dabcf7a-fe7a-41f7-8330-0267ddae2c6d"
      },
      "source": [
        "s = input (\"Enter Your Number:\")\n",
        "print(s+100)\n"
      ],
      "execution_count": 32,
      "outputs": [
        {
          "output_type": "stream",
          "text": [
            "Enter Your Number:123\n"
          ],
          "name": "stdout"
        },
        {
          "output_type": "error",
          "ename": "TypeError",
          "evalue": "ignored",
          "traceback": [
            "\u001b[0;31m---------------------------------------------------------------------------\u001b[0m",
            "\u001b[0;31mTypeError\u001b[0m                                 Traceback (most recent call last)",
            "\u001b[0;32m<ipython-input-32-1a730fa1c753>\u001b[0m in \u001b[0;36m<module>\u001b[0;34m()\u001b[0m\n\u001b[1;32m      1\u001b[0m \u001b[0ms\u001b[0m \u001b[0;34m=\u001b[0m \u001b[0minput\u001b[0m \u001b[0;34m(\u001b[0m\u001b[0;34m\"Enter Your Number:\"\u001b[0m\u001b[0;34m)\u001b[0m\u001b[0;34m\u001b[0m\u001b[0;34m\u001b[0m\u001b[0m\n\u001b[0;32m----> 2\u001b[0;31m \u001b[0mprint\u001b[0m\u001b[0;34m(\u001b[0m\u001b[0ms\u001b[0m\u001b[0;34m+\u001b[0m\u001b[0;36m100\u001b[0m\u001b[0;34m)\u001b[0m\u001b[0;34m\u001b[0m\u001b[0;34m\u001b[0m\u001b[0m\n\u001b[0m",
            "\u001b[0;31mTypeError\u001b[0m: must be str, not int"
          ]
        }
      ]
    },
    {
      "cell_type": "code",
      "metadata": {
        "id": "pzSBeFheWGYA",
        "colab_type": "code",
        "colab": {
          "base_uri": "https://localhost:8080/",
          "height": 153
        },
        "outputId": "cc9da90b-9736-45db-c107-a26246a2b211"
      },
      "source": [
        "s = int(input(\"Enter Your Number:\"))\n",
        "print(100 + s)\n",
        "s = float(input(\"Enter Your Number:\"))\n",
        "print(100 + s)\n",
        "s = eval(input(\"Enter Your Number:\"))\n",
        "print(100 + s)\n",
        "s = eval(input(\"Enter Your Number:\"))\n",
        "print(100 + s)"
      ],
      "execution_count": 33,
      "outputs": [
        {
          "output_type": "stream",
          "text": [
            "Enter Your Number:123\n",
            "223\n",
            "Enter Your Number:123\n",
            "223.0\n",
            "Enter Your Number:123\n",
            "223\n",
            "Enter Your Number:123\n",
            "223\n"
          ],
          "name": "stdout"
        }
      ]
    },
    {
      "cell_type": "code",
      "metadata": {
        "id": "D5XRXBqjWXkW",
        "colab_type": "code",
        "colab": {}
      },
      "source": [
        "a = 1 + 2\n"
      ],
      "execution_count": 0,
      "outputs": []
    },
    {
      "cell_type": "code",
      "metadata": {
        "id": "-rMfcvpxWhqH",
        "colab_type": "code",
        "colab": {
          "base_uri": "https://localhost:8080/",
          "height": 119
        },
        "outputId": "790df645-2dc2-4d67-9c8c-7151c5d36528"
      },
      "source": [
        "print (5<2)\n",
        "print (5<=2)\n",
        "print (5>2)\n",
        "print(5>=2)\n",
        "print(5!=2)\n",
        "print(5==2)"
      ],
      "execution_count": 35,
      "outputs": [
        {
          "output_type": "stream",
          "text": [
            "False\n",
            "False\n",
            "True\n",
            "True\n",
            "True\n",
            "False\n"
          ],
          "name": "stdout"
        }
      ]
    },
    {
      "cell_type": "code",
      "metadata": {
        "id": "hPhwVppoWknW",
        "colab_type": "code",
        "colab": {
          "base_uri": "https://localhost:8080/",
          "height": 68
        },
        "outputId": "813116a8-a120-4a72-84fb-cdebcf2a5ef1"
      },
      "source": [
        "X = 70\n",
        "print((X>60) and (X<80))\n",
        "print((X>60) or (X<80))\n",
        "print(not(X>60))\n"
      ],
      "execution_count": 36,
      "outputs": [
        {
          "output_type": "stream",
          "text": [
            "True\n",
            "True\n",
            "False\n"
          ],
          "name": "stdout"
        }
      ]
    },
    {
      "cell_type": "code",
      "metadata": {
        "id": "JxsFoSuzWnc6",
        "colab_type": "code",
        "colab": {
          "base_uri": "https://localhost:8080/",
          "height": 102
        },
        "outputId": "efb5826d-9262-4c88-afc6-aa7460793082"
      },
      "source": [
        "x = 1\n",
        "y = [1,2,3]\n",
        "print(x in y)\n",
        "print( x not in y)\n",
        "x = [1,2,3]\n",
        "y = [1,2,3]\n",
        "print(id(x), id(y)) \n",
        "print(x is y)\n",
        "print(x is not y)"
      ],
      "execution_count": 37,
      "outputs": [
        {
          "output_type": "stream",
          "text": [
            "True\n",
            "False\n",
            "140087647607496 140087638390920\n",
            "False\n",
            "True\n"
          ],
          "name": "stdout"
        }
      ]
    },
    {
      "cell_type": "code",
      "metadata": {
        "id": "_BgC0HjmWsta",
        "colab_type": "code",
        "colab": {
          "base_uri": "https://localhost:8080/",
          "height": 136
        },
        "outputId": "7633cd41-e045-4543-b5fd-9a2f7e6651a9"
      },
      "source": [
        "print(5 + 2)\n",
        "print(5 - 2)\n",
        "print(5 * 2)\n",
        "print(5 / 2)\n",
        "print(5 // 2)\n",
        "print(5 % 2) \n",
        "print(5 ** 2)"
      ],
      "execution_count": 38,
      "outputs": [
        {
          "output_type": "stream",
          "text": [
            "7\n",
            "3\n",
            "10\n",
            "2.5\n",
            "2\n",
            "1\n",
            "25\n"
          ],
          "name": "stdout"
        }
      ]
    },
    {
      "cell_type": "code",
      "metadata": {
        "id": "AiFd_3LWWy8v",
        "colab_type": "code",
        "colab": {
          "base_uri": "https://localhost:8080/",
          "height": 153
        },
        "outputId": "f64d33cb-5727-409b-d59b-95073a17e95e"
      },
      "source": [
        "a = 5\n",
        "a = a + 2\n",
        "print(a)\n",
        "a+=2 #a = a + 2\n",
        "print(a)\n",
        "a-=2 #a = a - 2\n",
        "print(a)\n",
        "a*=2 #a = a * 2\n",
        "print(a)\n",
        "a/=2 # a = a / 2\n",
        "print(a)\n",
        "a//=2 # a = a // 2\n",
        "print(a)\n",
        "a%=2 # a = a % 2\n",
        "print(a)\n",
        "a**=2 #a = a**2\n",
        "print(a)"
      ],
      "execution_count": 39,
      "outputs": [
        {
          "output_type": "stream",
          "text": [
            "7\n",
            "9\n",
            "7\n",
            "14\n",
            "7.0\n",
            "3.0\n",
            "1.0\n",
            "1.0\n"
          ],
          "name": "stdout"
        }
      ]
    },
    {
      "cell_type": "code",
      "metadata": {
        "id": "N96BGnlwXDM_",
        "colab_type": "code",
        "colab": {}
      },
      "source": [
        ""
      ],
      "execution_count": 0,
      "outputs": []
    }
  ]
}