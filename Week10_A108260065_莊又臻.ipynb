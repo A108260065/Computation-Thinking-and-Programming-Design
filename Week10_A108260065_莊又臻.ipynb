{
  "nbformat": 4,
  "nbformat_minor": 0,
  "metadata": {
    "colab": {
      "name": "Week10_A108260065_莊又臻.ipynb",
      "provenance": [],
      "include_colab_link": true
    },
    "kernelspec": {
      "name": "python3",
      "display_name": "Python 3"
    }
  },
  "cells": [
    {
      "cell_type": "markdown",
      "metadata": {
        "id": "view-in-github",
        "colab_type": "text"
      },
      "source": [
        "<a href=\"https://colab.research.google.com/github/Username0527/Computation-Thinking-and-Programming-Design/blob/master/Week10_A108260065_%E8%8E%8A%E5%8F%88%E8%87%BB.ipynb\" target=\"_parent\"><img src=\"https://colab.research.google.com/assets/colab-badge.svg\" alt=\"Open In Colab\"/></a>"
      ]
    },
    {
      "cell_type": "code",
      "metadata": {
        "id": "IYg-_T9hWHLz",
        "colab_type": "code",
        "colab": {
          "base_uri": "https://localhost:8080/",
          "height": 105
        },
        "outputId": "6346d184-7715-4405-ad3e-e567e78ce767"
      },
      "source": [
        "print(\"You are on a deserted island in a 2D world.\")\n",
        "print(\"Try to survive until rescue arrives!\")\n",
        "print(\"Available commands are in CAPITAL letters.\")\n",
        "print(\"Any other command exits the program\")\n",
        "print(\"First LOOK around...\")"
      ],
      "execution_count": 1,
      "outputs": [
        {
          "output_type": "stream",
          "text": [
            "You are on a deserted island in a 2D world.\n",
            "Try to survive until rescue arrives!\n",
            "Available commands are in CAPITAL letters.\n",
            "Any other command exits the program\n",
            "First LOOK around...\n"
          ],
          "name": "stdout"
        }
      ]
    },
    {
      "cell_type": "code",
      "metadata": {
        "id": "9xFCIcFbX_3h",
        "colab_type": "code",
        "colab": {
          "base_uri": "https://localhost:8080/",
          "height": 230
        },
        "outputId": "40f35cc5-1d91-4903-959a-1da6f5ef806d"
      },
      "source": [
        "do = input(\":: \")\n",
        "if do == \"LOOK\":\n",
        "    print(\"You are stuck in a sand ditch.\")\n",
        "    print(\"Crawl out LEFT or RIGHT.\")\n",
        "    do = input(\":: \")\n",
        "    if do == \"LEFT\": \n",
        "        print(\"You see a STARFISH and a CRAB on the sand.\") \n",
        "        print(\"And you're hungry! Which do you eat?\")\n",
        "        do = input(\":: \") \n",
        "        if do == \"STARFISH\":\n",
        "            print(\"Oh no! You immediately don't feel well.\")\n",
        "            print(\"You do not survive :(\")\n",
        "        elif do == \"CRAB\": \n",
        "            print(\"Raw crab should be fine, right? YES or NO.\")\n",
        "            do = input(\":: \")\n",
        "            if do == \"YES\":\n",
        "                print(\"Ok, You eat it raw. Fingers crossed.\")\n",
        "                print(\"Food in your belly helps you see a TREE.\")\n",
        "                do = input(\":: \")\n",
        "                if do == \"YES\":\n",
        "                     print(\"Oh boy. Coconut water and raw crab don't mix.\")\n",
        "                     print(\"You do not survive :(\")\n",
        "                elif do == \"NO\":\n",
        "                    print(\"Good choice.\")\n",
        "                    print(\"Look! It's a rescue plane! You made it! \\o/\")\n",
        "        elif do == \"NO\":\n",
        "            print(\"Well, there's nothing else left to eat.\")\n",
        "            print(\"You do not survive :(\")\n",
        "    elif do == \"RIGHT\":\n",
        "        print(\"No can do. That side is very slippery.\") \n",
        "        print(\"You fall very far into some weird cavern.\") \n",
        "        print(\"You do not survive :(\")\n",
        "else:\n",
        "    print(\"You can only do actions shown in capital letters.\") \n",
        "    print(\"Try again!\")          "
      ],
      "execution_count": 30,
      "outputs": [
        {
          "output_type": "stream",
          "text": [
            ":: LOOK\n",
            "You are stuck in a sand ditch.\n",
            "Crawl out LEFT or RIGHT.\n",
            ":: LEFT\n",
            "You see a STARFISH and a CRAB on the sand.\n",
            "And you're hungry! Which do you eat?\n",
            ":: CRAB\n",
            "Raw crab should be fine, right? YES or NO.\n",
            ":: YES\n",
            "Ok, You eat it raw. Fingers crossed.\n",
            "Food in your belly helps you see a TREE.\n",
            ":: TREE\n"
          ],
          "name": "stdout"
        }
      ]
    },
    {
      "cell_type": "code",
      "metadata": {
        "id": "ogf0JTMlcwSg",
        "colab_type": "code",
        "colab": {
          "base_uri": "https://localhost:8080/",
          "height": 70
        },
        "outputId": "a8c326d9-6a35-4177-d13f-7bead2e80c87"
      },
      "source": [
        "import random\n",
        "my = int(input(\"請出拳 [0] 剪刀 [1] 石頭 [2] 布\"))\n",
        "print(\"我出拳為\", my)\n",
        "computer = random.randint(0, 2)\n",
        "print(\"電腦出拳為\", computer)"
      ],
      "execution_count": 32,
      "outputs": [
        {
          "output_type": "stream",
          "text": [
            "請出拳 [0] 剪刀 [1] 石頭 [2] 布1\n",
            "我出拳為 1\n",
            "電腦出拳為 0\n"
          ],
          "name": "stdout"
        }
      ]
    },
    {
      "cell_type": "code",
      "metadata": {
        "id": "x2DHSyOKpTb9",
        "colab_type": "code",
        "colab": {
          "base_uri": "https://localhost:8080/",
          "height": 34
        },
        "outputId": "b0894bb5-f93a-4def-b7ef-66f7b0c1a0a0"
      },
      "source": [
        "if my == 0:\n",
        "         if computer == 0:\n",
        "             print('平手')\n",
        "         elif computer == 1:\n",
        "             print('電腦獲勝')\n",
        "         else:\n",
        "             print('玩家獲勝')\n",
        "elif my == 1:\n",
        "        if computer == 0:\n",
        "             print('玩家獲勝')\n",
        "        elif computer == 1:\n",
        "             print('平手')\n",
        "        else:\n",
        "             print('電腦獲勝')\n",
        "else:\n",
        "        if computer == 1:\n",
        "             print('電腦獲勝')\n",
        "        elif computer == 2:\n",
        "             print('玩家獲勝')\n",
        "        else:\n",
        "             print('平手')"
      ],
      "execution_count": 38,
      "outputs": [
        {
          "output_type": "stream",
          "text": [
            "玩家獲勝\n"
          ],
          "name": "stdout"
        }
      ]
    },
    {
      "cell_type": "code",
      "metadata": {
        "id": "RRaqA1O1qo1Z",
        "colab_type": "code",
        "colab": {
          "base_uri": "https://localhost:8080/",
          "height": 70
        },
        "outputId": "b689a238-c988-4fb6-881b-4084a1a3f404"
      },
      "source": [
        "import random\n",
        "my_choice = int(input(\"請出拳 [0] 剪刀 [1] 石頭 [2] 布\"))\n",
        "print(\"我出拳為\", my_choice)\n",
        "com_choice = random.randint(0, 2)\n",
        "print(\"電腦出拳為\", com_choice)"
      ],
      "execution_count": 39,
      "outputs": [
        {
          "output_type": "stream",
          "text": [
            "請出拳 [0] 剪刀 [1] 石頭 [2] 布1\n",
            "我出拳為 1\n",
            "電腦出拳為 2\n"
          ],
          "name": "stdout"
        }
      ]
    },
    {
      "cell_type": "code",
      "metadata": {
        "id": "oBPG062Fq-ru",
        "colab_type": "code",
        "colab": {
          "base_uri": "https://localhost:8080/",
          "height": 34
        },
        "outputId": "559875de-a698-44ed-d7bc-5fd673dc8f9c"
      },
      "source": [
        "if my_choice == (com_choice + 1) % 3:\n",
        "    print(\"我贏了\")\n",
        "elif my_choice == com_choice:\n",
        "    print(\"平手\")\n",
        "else:\n",
        "    print(\"我輸了\")"
      ],
      "execution_count": 40,
      "outputs": [
        {
          "output_type": "stream",
          "text": [
            "我輸了\n"
          ],
          "name": "stdout"
        }
      ]
    },
    {
      "cell_type": "code",
      "metadata": {
        "id": "teG-_NicrMeu",
        "colab_type": "code",
        "colab": {
          "base_uri": "https://localhost:8080/",
          "height": 70
        },
        "outputId": "d3505616-63e9-4b61-e81b-b080e8bdd1a9"
      },
      "source": [
        "import random\n",
        "my_choice = int(input(\"請出拳 [0] 蟲 [1] 雞 [2] 老虎 [3] 棒子\"))\n",
        "print(\"你出的拳:\", my_choice)\n",
        "com_choice = random.randint(0, 3)\n",
        "print(\"電腦出拳為\", com_choice)"
      ],
      "execution_count": 41,
      "outputs": [
        {
          "output_type": "stream",
          "text": [
            "請出拳 [0] 蟲 [1] 雞 [2] 老虎 [3] 棒子1\n",
            "你出的拳: 1\n",
            "電腦出拳為 0\n"
          ],
          "name": "stdout"
        }
      ]
    },
    {
      "cell_type": "code",
      "metadata": {
        "id": "b3Laq0fQrXQ4",
        "colab_type": "code",
        "colab": {
          "base_uri": "https://localhost:8080/",
          "height": 34
        },
        "outputId": "c85aedc3-902e-4289-deb9-b7c6cbac5a2d"
      },
      "source": [
        "if my_choice == (com_choice + 1) % 4:\n",
        "    print(\"我贏了\")\n",
        "elif com_choice == (my_choice + 1) % 4:\n",
        "    print(\"電腦贏了\")\n",
        "else:\n",
        "    print(\"平手\")"
      ],
      "execution_count": 42,
      "outputs": [
        {
          "output_type": "stream",
          "text": [
            "我贏了\n"
          ],
          "name": "stdout"
        }
      ]
    },
    {
      "cell_type": "code",
      "metadata": {
        "id": "OwrhMD1sstqh",
        "colab_type": "code",
        "colab": {
          "base_uri": "https://localhost:8080/",
          "height": 52
        },
        "outputId": "786c853d-21dd-4b37-c1c5-13529712489f"
      },
      "source": [
        "year = int(input(\"输入一个年份: \"))\n",
        "if (year % 4) == 0:\n",
        "   if (year % 100) == 0:\n",
        "       if (year % 400) == 0:\n",
        "           print(\"{0} 是闰年\".format(year))   \n",
        "       else:\n",
        "           print(\"{0} 不是闰年\".format(year))\n",
        "   else:\n",
        "       print(\"{0} 是闰年\".format(year))       \n",
        "else:\n",
        "   print(\"{0} 不是闰年\".format(year))"
      ],
      "execution_count": 45,
      "outputs": [
        {
          "output_type": "stream",
          "text": [
            "输入一个年份: 2012\n",
            "2012 是闰年\n"
          ],
          "name": "stdout"
        }
      ]
    },
    {
      "cell_type": "code",
      "metadata": {
        "id": "UADRdgj7s2ZT",
        "colab_type": "code",
        "colab": {}
      },
      "source": [
        ""
      ],
      "execution_count": 0,
      "outputs": []
    }
  ]
}