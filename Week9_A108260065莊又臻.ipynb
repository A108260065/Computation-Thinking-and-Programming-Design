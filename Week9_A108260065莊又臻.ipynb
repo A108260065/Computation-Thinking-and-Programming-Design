{
  "nbformat": 4,
  "nbformat_minor": 0,
  "metadata": {
    "colab": {
      "name": "Week9-A108260065莊又臻.ipynb",
      "provenance": [],
      "include_colab_link": true
    },
    "kernelspec": {
      "name": "python3",
      "display_name": "Python 3"
    }
  },
  "cells": [
    {
      "cell_type": "markdown",
      "metadata": {
        "id": "view-in-github",
        "colab_type": "text"
      },
      "source": [
        "<a href=\"https://colab.research.google.com/github/Username0527/Computation-Thinking-and-Programming-Design/blob/master/Week9_A108260065%E8%8E%8A%E5%8F%88%E8%87%BB.ipynb\" target=\"_parent\"><img src=\"https://colab.research.google.com/assets/colab-badge.svg\" alt=\"Open In Colab\"/></a>"
      ]
    },
    {
      "cell_type": "code",
      "metadata": {
        "id": "jqQ3u6K-dpDZ",
        "colab_type": "code",
        "colab": {
          "base_uri": "https://localhost:8080/",
          "height": 51
        },
        "outputId": "a9c93dbc-78bb-45eb-9784-77a0d289a97b"
      },
      "source": [
        "score=int(input('請輸入一個成績?'))\n",
        "if score >=60:\n",
        "     print('有及格喔')\n",
        "else:\n",
        "     print('不及格ㄟ')"
      ],
      "execution_count": 5,
      "outputs": [
        {
          "output_type": "stream",
          "text": [
            "請輸入一個成績?50\n",
            "不及格ㄟ\n"
          ],
          "name": "stdout"
        }
      ]
    },
    {
      "cell_type": "code",
      "metadata": {
        "id": "o7UAFM2piDw4",
        "colab_type": "code",
        "colab": {
          "base_uri": "https://localhost:8080/",
          "height": 51
        },
        "outputId": "35038b9d-14df-4bcc-fecb-bec55ad27b8b"
      },
      "source": [
        "50\n",
        "score=int(input('請輸入一個成績?'))\n",
        "if score >=80:\n",
        "     print('非常好')\n",
        "elif score >=60:\n",
        "     print('不錯喔')\n",
        "else: \n",
        "     print('要加油')"
      ],
      "execution_count": 10,
      "outputs": [
        {
          "output_type": "stream",
          "text": [
            "請輸入一個成績?66\n",
            "不錯喔\n"
          ],
          "name": "stdout"
        }
      ]
    },
    {
      "cell_type": "code",
      "metadata": {
        "id": "wiry2LC0kKXe",
        "colab_type": "code",
        "colab": {
          "base_uri": "https://localhost:8080/",
          "height": 68
        },
        "outputId": "2cf21f60-4942-4cce-be22-4aa3b6f48c0a"
      },
      "source": [
        "x = float(input('請輸入該點的X座標？')) \n",
        "y = float(input('請輸入該點的Y座標？'))\n",
        "if (x > 0):\n",
        "  if (y > 0):\n",
        "    print('該點在第⼀象限') \n",
        "  else:\n",
        "   print('該點在第四象限') \n",
        "else:\n",
        " if (y > 0):\n",
        "  print('該點在第⼆象限') \n",
        " else:\n",
        "  print('該點在第三象限') "
      ],
      "execution_count": 15,
      "outputs": [
        {
          "output_type": "stream",
          "text": [
            "請輸入該點的X座標？1\n",
            "請輸入該點的Y座標？1\n",
            "該點在第⼀象限\n"
          ],
          "name": "stdout"
        }
      ]
    },
    {
      "cell_type": "code",
      "metadata": {
        "id": "ZGswTQTamOTP",
        "colab_type": "code",
        "colab": {
          "base_uri": "https://localhost:8080/",
          "height": 51
        },
        "outputId": "92386b51-5388-4c80-f916-724e1a79b45e"
      },
      "source": [
        "cost = int(input('請輸入購買⾦額？'))\n",
        "if cost >= 2000:\n",
        " print(cost * 0.9)\n",
        "else:\n",
        " print(cost)"
      ],
      "execution_count": 16,
      "outputs": [
        {
          "output_type": "stream",
          "text": [
            "請輸入購買⾦額？2000\n",
            "1800.0\n"
          ],
          "name": "stdout"
        }
      ]
    },
    {
      "cell_type": "code",
      "metadata": {
        "id": "QIR5NRAHm1v0",
        "colab_type": "code",
        "colab": {
          "base_uri": "https://localhost:8080/",
          "height": 51
        },
        "outputId": "1c6bc1c4-cf7f-46e4-cf29-9aa858a4e0b7"
      },
      "source": [
        "num = int(input('請輸入⼀個整數？'))\n",
        "if num % 2 == 0:\n",
        " print(num, '為偶數')\n",
        "else:\n",
        " print(num, '為奇數')"
      ],
      "execution_count": 17,
      "outputs": [
        {
          "output_type": "stream",
          "text": [
            "請輸入⼀個整數？13\n",
            "13 為奇數\n"
          ],
          "name": "stdout"
        }
      ]
    },
    {
      "cell_type": "code",
      "metadata": {
        "id": "NFzi0u8Zm9eG",
        "colab_type": "code",
        "colab": {}
      },
      "source": [
        ""
      ],
      "execution_count": 0,
      "outputs": []
    }
  ]
}