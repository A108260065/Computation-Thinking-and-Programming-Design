{
  "nbformat": 4,
  "nbformat_minor": 0,
  "metadata": {
    "colab": {
      "name": "Week6_A108260065_莊又臻.ipynb",
      "provenance": [],
      "include_colab_link": true
    },
    "kernelspec": {
      "name": "python3",
      "display_name": "Python 3"
    }
  },
  "cells": [
    {
      "cell_type": "markdown",
      "metadata": {
        "id": "view-in-github",
        "colab_type": "text"
      },
      "source": [
        "<a href=\"https://colab.research.google.com/github/Username0527/Computation-Thinking-and-Programming-Design/blob/master/Week6_A108260065_%E8%8E%8A%E5%8F%88%E8%87%BB.ipynb\" target=\"_parent\"><img src=\"https://colab.research.google.com/assets/colab-badge.svg\" alt=\"Open In Colab\"/></a>"
      ]
    },
    {
      "cell_type": "code",
      "metadata": {
        "id": "VORSQLf5IiRl",
        "colab_type": "code",
        "colab": {
          "base_uri": "https://localhost:8080/",
          "height": 119
        },
        "outputId": "943310d5-f716-48f3-cbc6-9fc02bd49330"
      },
      "source": [
        "name = input(' 請問貴姓大名？ ' )\n",
        "print(' 你好， ' , name)\n",
        "y = int(input(' 請問年紀？ ' ))\n",
        "print(' 原來你' , y, ' 歲' )\n",
        "w = float(input(' 請問體重？ ' ))\n",
        "print(' 體重為' , w)"
      ],
      "execution_count": 2,
      "outputs": [
        {
          "output_type": "stream",
          "text": [
            " 請問貴姓大名？ Evan\n",
            " 你好，  Evan\n",
            " 請問年紀？ 18\n",
            " 原來你 18  歲\n",
            " 請問體重？ 99\n",
            " 體重為 99.0\n"
          ],
          "name": "stdout"
        }
      ]
    },
    {
      "cell_type": "code",
      "metadata": {
        "id": "YDHtoDT_Rld2",
        "colab_type": "code",
        "colab": {
          "base_uri": "https://localhost:8080/",
          "height": 85
        },
        "outputId": "c62711f6-48d9-4db0-adc9-93e5ee31162f"
      },
      "source": [
        "x=int(input(' 第一次期中考成績? ' ))\n",
        "y=int(input(' 第二次期中考成績? ' ))\n",
        "z=int(input(' 第三次期中考成績? ' ))\n",
        "w=(x+y+z)\n",
        "s=(w/3)\n",
        "print('總分為',w,'平均為',s)\n",
        "\n"
      ],
      "execution_count": 22,
      "outputs": [
        {
          "output_type": "stream",
          "text": [
            " 第一次期中考成績? 75\n",
            " 第二次期中考成績? 80\n",
            " 第三次期中考成績? 65\n",
            "總分為 220 平均為 73.33333333333333\n"
          ],
          "name": "stdout"
        }
      ]
    },
    {
      "cell_type": "code",
      "metadata": {
        "id": "rMowByShYP8L",
        "colab_type": "code",
        "colab": {
          "base_uri": "https://localhost:8080/",
          "height": 68
        },
        "outputId": "283cd7c5-b3fe-47e7-9370-5a7006682a9e"
      },
      "source": [
        "x=int(input('請輸入幾尺?'))\n",
        "y=int(input('請輸入幾吋?'))\n",
        "z=(x*12+y)*2.54\n",
        "print('轉換成',z,'公分')"
      ],
      "execution_count": 21,
      "outputs": [
        {
          "output_type": "stream",
          "text": [
            "請輸入幾尺?5\n",
            "請輸入幾吋?8\n",
            "轉換成 172.72 公分\n"
          ],
          "name": "stdout"
        }
      ]
    },
    {
      "cell_type": "code",
      "metadata": {
        "id": "L6nwl7pTclF0",
        "colab_type": "code",
        "colab": {
          "base_uri": "https://localhost:8080/",
          "height": 51
        },
        "outputId": "b1f4625d-b8e8-442e-f19f-9ec578c53841"
      },
      "source": [
        "x=int(input('請輸入座號?'))\n",
        "y=4\n",
        "print('組別為?',4)\n"
      ],
      "execution_count": 23,
      "outputs": [
        {
          "output_type": "stream",
          "text": [
            "請輸入座號?19\n",
            "組別為? 4\n"
          ],
          "name": "stdout"
        }
      ]
    },
    {
      "cell_type": "code",
      "metadata": {
        "id": "Zcw9PMHSgskL",
        "colab_type": "code",
        "colab": {}
      },
      "source": [
        ""
      ],
      "execution_count": 0,
      "outputs": []
    }
  ]
}