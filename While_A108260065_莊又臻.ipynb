{
  "nbformat": 4,
  "nbformat_minor": 0,
  "metadata": {
    "colab": {
      "name": "While A108260065_莊又臻.ipynb",
      "provenance": [],
      "include_colab_link": true
    },
    "kernelspec": {
      "name": "python3",
      "display_name": "Python 3"
    }
  },
  "cells": [
    {
      "cell_type": "markdown",
      "metadata": {
        "id": "view-in-github",
        "colab_type": "text"
      },
      "source": [
        "<a href=\"https://colab.research.google.com/github/Username0527/Computation-Thinking-and-Programming-Design/blob/master/While_A108260065_%E8%8E%8A%E5%8F%88%E8%87%BB.ipynb\" target=\"_parent\"><img src=\"https://colab.research.google.com/assets/colab-badge.svg\" alt=\"Open In Colab\"/></a>"
      ]
    },
    {
      "cell_type": "code",
      "metadata": {
        "id": "J0_iNociqZX5",
        "colab_type": "code",
        "colab": {
          "base_uri": "https://localhost:8080/",
          "height": 153
        },
        "outputId": "a17ca502-2384-4fe5-9c23-9bf6f51adb1e"
      },
      "source": [
        "n=1\n",
        "while n < 5 :\n",
        "    print(\"變數n是\", n)\n",
        "    n = n + 1\n",
        "    print(\"Finish\")\n"
      ],
      "execution_count": 4,
      "outputs": [
        {
          "output_type": "stream",
          "text": [
            "變數n是 1\n",
            "Finish\n",
            "變數n是 2\n",
            "Finish\n",
            "變數n是 3\n",
            "Finish\n",
            "變數n是 4\n",
            "Finish\n"
          ],
          "name": "stdout"
        }
      ]
    },
    {
      "cell_type": "code",
      "metadata": {
        "id": "aA3dCW1Zrgo7",
        "colab_type": "code",
        "colab": {
          "base_uri": "https://localhost:8080/",
          "height": 187
        },
        "outputId": "32b70d8b-73bd-4b3f-aa63-6e11e120f9d7"
      },
      "source": [
        "x=0\n",
        "while x <10:\n",
        "  print(\"hello\")\n",
        "  x=x+1"
      ],
      "execution_count": 5,
      "outputs": [
        {
          "output_type": "stream",
          "text": [
            "hello\n",
            "hello\n",
            "hello\n",
            "hello\n",
            "hello\n",
            "hello\n",
            "hello\n",
            "hello\n",
            "hello\n",
            "hello\n"
          ],
          "name": "stdout"
        }
      ]
    },
    {
      "cell_type": "code",
      "metadata": {
        "id": "QBxou2fctxlx",
        "colab_type": "code",
        "colab": {
          "base_uri": "https://localhost:8080/",
          "height": 187
        },
        "outputId": "aae58e08-7271-46f9-f5b2-f032940ef628"
      },
      "source": [
        "times=0\n",
        "while times <10:\n",
        "  times= times + 1\n",
        "  print(\"這是第\",times, \"次的hello\")"
      ],
      "execution_count": 9,
      "outputs": [
        {
          "output_type": "stream",
          "text": [
            "這是第 1 次的hello\n",
            "這是第 2 次的hello\n",
            "這是第 3 次的hello\n",
            "這是第 4 次的hello\n",
            "這是第 5 次的hello\n",
            "這是第 6 次的hello\n",
            "這是第 7 次的hello\n",
            "這是第 8 次的hello\n",
            "這是第 9 次的hello\n",
            "這是第 10 次的hello\n"
          ],
          "name": "stdout"
        }
      ]
    },
    {
      "cell_type": "code",
      "metadata": {
        "id": "ljmkDfP0uthi",
        "colab_type": "code",
        "colab": {
          "base_uri": "https://localhost:8080/",
          "height": 34
        },
        "outputId": "3b9a06f8-d3c8-4ee5-84d7-d67213f37933"
      },
      "source": [
        "x=0\n",
        "result=0\n",
        "while x < 10:\n",
        "  x=x+1\n",
        "  result = result+ x\n",
        "print(\"答案是:\", result)"
      ],
      "execution_count": 10,
      "outputs": [
        {
          "output_type": "stream",
          "text": [
            "答案是: 55\n"
          ],
          "name": "stdout"
        }
      ]
    },
    {
      "cell_type": "code",
      "metadata": {
        "id": "HDkOLLtNwR1T",
        "colab_type": "code",
        "colab": {
          "base_uri": "https://localhost:8080/",
          "height": 34
        },
        "outputId": "a4ecfcc0-12b3-46b1-c737-c009013a3c66"
      },
      "source": [
        "x=0\n",
        "result=0\n",
        "while result <=50:\n",
        "  x=x+1\n",
        "  result= result +x\n",
        "print(\"最後加的是\", x)"
      ],
      "execution_count": 13,
      "outputs": [
        {
          "output_type": "stream",
          "text": [
            "最後加的是 10\n"
          ],
          "name": "stdout"
        }
      ]
    },
    {
      "cell_type": "code",
      "metadata": {
        "id": "tChW0IrUx1SI",
        "colab_type": "code",
        "colab": {
          "base_uri": "https://localhost:8080/",
          "height": 34
        },
        "outputId": "bc442e62-374a-4e67-d871-4d76125c00da"
      },
      "source": [
        "sum=0\n",
        "x=1\n",
        "while x < 11:\n",
        "  sum=sum+x\n",
        "  x=x+2\n",
        "print(\"1+3+5+7+9=\", sum)\n"
      ],
      "execution_count": 20,
      "outputs": [
        {
          "output_type": "stream",
          "text": [
            "1+3+5+7+9= 25\n"
          ],
          "name": "stdout"
        }
      ]
    },
    {
      "cell_type": "code",
      "metadata": {
        "id": "Xc01C8YO0pmY",
        "colab_type": "code",
        "colab": {
          "base_uri": "https://localhost:8080/",
          "height": 34
        },
        "outputId": "2ce7b10b-5e67-4331-9f84-ad8422d27820"
      },
      "source": [
        "sum=0\n",
        "i=0\n",
        "while sum<=1000:\n",
        "  i+=1\n",
        "  sum+=i*i\n",
        "print('最小的n值為', i)"
      ],
      "execution_count": 22,
      "outputs": [
        {
          "output_type": "stream",
          "text": [
            "最小的n值為 14\n"
          ],
          "name": "stdout"
        }
      ]
    },
    {
      "cell_type": "code",
      "metadata": {
        "id": "_kaEbs6R2IJo",
        "colab_type": "code",
        "colab": {
          "base_uri": "https://localhost:8080/",
          "height": 102
        },
        "outputId": "39c4af53-ad6c-4895-8a32-9321bd79ed5e"
      },
      "source": [
        "i=1\n",
        "while(i<7):\n",
        "  i+=1\n",
        "  if i==4:\n",
        "    continue\n",
        "  print(i)"
      ],
      "execution_count": 25,
      "outputs": [
        {
          "output_type": "stream",
          "text": [
            "2\n",
            "3\n",
            "5\n",
            "6\n",
            "7\n"
          ],
          "name": "stdout"
        }
      ]
    },
    {
      "cell_type": "code",
      "metadata": {
        "id": "0AtbXK0R37lC",
        "colab_type": "code",
        "colab": {}
      },
      "source": [
        ""
      ],
      "execution_count": 0,
      "outputs": []
    }
  ]
}