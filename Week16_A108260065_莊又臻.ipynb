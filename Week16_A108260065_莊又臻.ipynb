{
  "nbformat": 4,
  "nbformat_minor": 0,
  "metadata": {
    "colab": {
      "name": "Week16-A108260065-莊又臻.ipynb",
      "provenance": [],
      "include_colab_link": true
    },
    "kernelspec": {
      "name": "python3",
      "display_name": "Python 3"
    }
  },
  "cells": [
    {
      "cell_type": "markdown",
      "metadata": {
        "id": "view-in-github",
        "colab_type": "text"
      },
      "source": [
        "<a href=\"https://colab.research.google.com/github/Username0527/Computation-Thinking-and-Programming-Design/blob/master/Week16_A108260065_%E8%8E%8A%E5%8F%88%E8%87%BB.ipynb\" target=\"_parent\"><img src=\"https://colab.research.google.com/assets/colab-badge.svg\" alt=\"Open In Colab\"/></a>"
      ]
    },
    {
      "cell_type": "code",
      "metadata": {
        "id": "8IonEROvopwu",
        "colab_type": "code",
        "colab": {
          "base_uri": "https://localhost:8080/",
          "height": 87
        },
        "outputId": "0fd9fa19-d157-4165-e200-012486f32804"
      },
      "source": [
        "answer=\"b246\"\n",
        "while True:\n",
        "  password=input(\"Enter your password?\")\n",
        "  if password==answer:\n",
        "    print(\"ENTER THE SYSTEM\")\n",
        "    break\n",
        "  else:\n",
        "    print(\"Try Again\")"
      ],
      "execution_count": 3,
      "outputs": [
        {
          "output_type": "stream",
          "text": [
            "Enter your password?246\n",
            "Try Again\n",
            "Enter your password?b246\n",
            "ENTER THE SYSTEM\n"
          ],
          "name": "stdout"
        }
      ]
    },
    {
      "cell_type": "code",
      "metadata": {
        "id": "uN64Wy6hxXUE",
        "colab_type": "code",
        "colab": {
          "base_uri": "https://localhost:8080/",
          "height": 70
        },
        "outputId": "7f3a97d8-0284-478f-f104-6dee3b960493"
      },
      "source": [
        "while True:\n",
        "  acc= input('請輸入帳號')\n",
        "  pwd= input('請輸入密碼')\n",
        "  if (acc=='abc' and pwd=='123'):\n",
        "    print('帳號密碼正確')\n",
        "    break\n",
        "  else:\n",
        "    print('登入失敗')"
      ],
      "execution_count": 4,
      "outputs": [
        {
          "output_type": "stream",
          "text": [
            "請輸入帳號abc\n",
            "請輸入密碼123\n",
            "帳號密碼正確\n"
          ],
          "name": "stdout"
        }
      ]
    },
    {
      "cell_type": "code",
      "metadata": {
        "id": "L_CKVypu0mPA",
        "colab_type": "code",
        "colab": {
          "base_uri": "https://localhost:8080/",
          "height": 212
        },
        "outputId": "b453f779-b87d-4903-f6d4-de3147e77e35"
      },
      "source": [
        "range(5)\n",
        "range(2,5)\n",
        "range(2,10,3)\n",
        "for i in range(5):\n",
        "   print(i)\n",
        "for i in range(2,5):\n",
        "   print(i)\n",
        "for i in range(2,10,3):\n",
        "   print(i)"
      ],
      "execution_count": 5,
      "outputs": [
        {
          "output_type": "stream",
          "text": [
            "0\n",
            "1\n",
            "2\n",
            "3\n",
            "4\n",
            "2\n",
            "3\n",
            "4\n",
            "2\n",
            "5\n",
            "8\n"
          ],
          "name": "stdout"
        }
      ]
    },
    {
      "cell_type": "code",
      "metadata": {
        "id": "0KQhb9NX5t7o",
        "colab_type": "code",
        "colab": {
          "base_uri": "https://localhost:8080/",
          "height": 141
        },
        "outputId": "8c3cb050-579e-4dd5-ce18-79198261794e"
      },
      "source": [
        "start= int(input(\"Enter a number?\"))\n",
        "end= int(input(\"enter a number?\"))\n",
        "step= int(input(\"enter a number?\"))\n",
        "sum=0\n",
        "for i in range(start, end, step):\n",
        "   sum=sum+i\n",
        "   print(\"i is\", i, \"sum equals\", sum)"
      ],
      "execution_count": 9,
      "outputs": [
        {
          "output_type": "stream",
          "text": [
            "Enter a number?3\n",
            "enter a number?13\n",
            "enter a number?3\n",
            "i is 3 sum equals 3\n",
            "i is 6 sum equals 9\n",
            "i is 9 sum equals 18\n",
            "i is 12 sum equals 30\n"
          ],
          "name": "stdout"
        }
      ]
    },
    {
      "cell_type": "code",
      "metadata": {
        "id": "lliJFM4z9ssE",
        "colab_type": "code",
        "colab": {}
      },
      "source": [
        ""
      ],
      "execution_count": 0,
      "outputs": []
    }
  ]
}